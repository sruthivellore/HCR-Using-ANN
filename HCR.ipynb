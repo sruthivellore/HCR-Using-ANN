{
  "nbformat": 4,
  "nbformat_minor": 0,
  "metadata": {
    "colab": {
      "name": "HCR",
      "provenance": [],
      "collapsed_sections": [],
      "machine_shape": "hm",
      "mount_file_id": "1IcGTPbxyegqKjgX_eVjcAeHin6XAhYWR",
      "authorship_tag": "ABX9TyOO78P7WWiQGDXOW22rsEai",
      "include_colab_link": true
    },
    "kernelspec": {
      "name": "python3",
      "display_name": "Python 3"
    }
  },
  "cells": [
    {
      "cell_type": "markdown",
      "metadata": {
        "id": "view-in-github",
        "colab_type": "text"
      },
      "source": [
        "<a href=\"https://colab.research.google.com/github/sruthivellore/HCR-Using-ANN/blob/main/HCR.ipynb\" target=\"_parent\"><img src=\"https://colab.research.google.com/assets/colab-badge.svg\" alt=\"Open In Colab\"/></a>"
      ]
    },
    {
      "cell_type": "markdown",
      "metadata": {
        "id": "Ifuk4W6Dz8gz"
      },
      "source": [
        "**Initialize**"
      ]
    },
    {
      "cell_type": "code",
      "metadata": {
        "id": "bYEQnmPdz5eN"
      },
      "source": [
        "import cv2\n",
        "from google.colab import files\n",
        "from google.colab.patches import cv2_imshow\n",
        "import numpy as np\n",
        "import matplotlib.pyplot as plt\n",
        "import numpy as np\n",
        "import random\n",
        "%matplotlib inline"
      ],
      "execution_count": 2,
      "outputs": []
    },
    {
      "cell_type": "markdown",
      "metadata": {
        "id": "IWL1X36o2VvW"
      },
      "source": [
        "**Input Preprocessing**"
      ]
    },
    {
      "cell_type": "code",
      "metadata": {
        "id": "N4DSyFyJgQYy"
      },
      "source": [
        "def getLetters(img):\n",
        "    height = img.shape[0]\n",
        "    width = img.shape[1]\n",
        "    print(\"\\n Resizing Image........\")\n",
        "    img = cv2.resize(img,dsize =(1020, int(1020*height/width)), interpolation = cv2.INTER_AREA)\n",
        "    height = img.shape[0]\n",
        "    width = img.shape[1]\n",
        "    # src_img = cv2.resize(copy, )\n",
        "    print(\"#---------Image Info:--------#\")\n",
        "    print(\"\\tHeight =\",height,\"\\n\\tWidth =\",width)\n",
        "    print(\"#----------------------------#\")\n",
        "    #converting the image from color to gray scale\n",
        "    gray = cv2.cvtColor(img, cv2.COLOR_BGR2GRAY)\n",
        "    # cv2_imshow(gray)\n",
        "  \n",
        "    #noice removal using gaussian blur\n",
        "    print(\"Noise Removal From Image.........\")\n",
        "    gray = cv2.GaussianBlur(gray, (5, 5), 0)\n",
        "    gray = cv2.GaussianBlur(gray, (5, 5), 0)\n",
        "    print(\"Applying Threshold ..............\")\n",
        "    #finding the contours and drawing contours\n",
        "    thresh = cv2.threshold(gray, 0, 255, cv2.THRESH_BINARY + cv2.THRESH_OTSU)[1]\n",
        "    # ret, thresh2 = cv2.threshold(gray, 0, 255, cv2.THRESH_OTSU | cv2.THRESH_BINARY_INV)\n",
        "    # cv2_imshow(thresh)\n",
        "    img_erode = cv2.erode(thresh, np.ones((2, 2), np.uint8), iterations=1)\n",
        "    # cv2_imshow(img_erode)\n",
        "    print(\"Beginning Character Semenation..............\")\n",
        "    contours, hierarchy = cv2.findContours(img_erode, cv2.RETR_TREE, cv2.CHAIN_APPROX_NONE)\n",
        "    output = img.copy()\n",
        "    letters = []\n",
        "    for idx, contour in enumerate(contours):\n",
        "        (x, y, w, h) = cv2.boundingRect(contour)\n",
        "        print(\"R\", idx, x, y, w, h, cv2.contourArea(contour), hierarchy[0][idx])\n",
        "\n",
        "        if hierarchy[0][idx][3] == 0:\n",
        "            cv2.rectangle(output, (x, y), (x + w, y + h), (70, 0, 0), 1)\n",
        "            letter_crop = thresh[y:y + h, x:x + w]\n",
        "                # print(letter_crop.shape)\n",
        "                # Resize letter canvas to square\n",
        "            size_max = max(w, h)\n",
        "            letter_square = 255 * np.ones(shape=[size_max, size_max], dtype=np.uint8)\n",
        "            if w > h:\n",
        "                # Enlarge image top-bottom\n",
        "                y_pos = size_max//2 - h//2\n",
        "                letter_square[y_pos:y_pos + h, 0:w] = letter_crop\n",
        "            elif w < h:\n",
        "                # Enlarge image left-right\n",
        "                x_pos = size_max//2 - w//2\n",
        "                letter_square[0:h, x_pos:x_pos + w] = letter_crop\n",
        "            else:\n",
        "                letter_square = letter_crop\n",
        "            # cv2_imshow(letter_square)\n",
        "            # Resize letter to 28x28 and add letter and its X-coordinate\n",
        "            letters.append((x, w, cv2.resize(letter_square, (28, 28), interpolation=cv2.INTER_AREA)))\n",
        "    letters.sort(key=lambda x: x[0], reverse=False)\n",
        "    # img = cv2.drawContours(img, contours, -1, (0,255,0), 3)\n",
        "    # cv2_imshow(img)\n",
        "    # cv2_imshow(output)\n",
        "    print(len(letters))\n",
        "    for i in letters:\n",
        "      cv2_imshow(i[2])\n",
        "      print(i[2].shape)\n",
        "    return letters\n",
        "\n",
        "\n"
      ],
      "execution_count": 3,
      "outputs": []
    },
    {
      "cell_type": "code",
      "metadata": {
        "id": "QEGZpmVDP3Se"
      },
      "source": [
        "import cv2 \n",
        "def getTextImageData(img):\n",
        "    print(\"\\n........Program Initiated.......\\n\") \n",
        "    # Preprocessing the image starts \n",
        "    height = img.shape[0]\n",
        "    width = img.shape[1]\n",
        "    img = cv2.resize(img,dsize =(1220, int(1220*height/width)), interpolation = cv2.INTER_AREA)\n",
        "    height = img.shape[0]\n",
        "    width = img.shape[1]\n",
        "      \n",
        "    # Convert the image to gray scale \n",
        "    gray = cv2.cvtColor(img, cv2.COLOR_BGR2GRAY) \n",
        "    # cv2_imshow(gray)\n",
        "    gray = cv2.GaussianBlur(gray, (5, 5), 0)\n",
        "    gray = cv2.GaussianBlur(gray, (5, 5), 0)\n",
        "    # cv2_imshow(gray)  \n",
        "    # Performing OTSU threshold \n",
        "    ret, thresh1 = cv2.threshold(gray, 0, 255, cv2.THRESH_OTSU | cv2.THRESH_BINARY_INV) \n",
        "    # cv2_imshow(thresh1)\n",
        "    # Specify structure shape and kernel size.  \n",
        "    # Kernel size increases or decreases the area of the rectangle to be detected. \n",
        "    rect_kernel = cv2.getStructuringElement(cv2.MORPH_RECT, (18, 18)) \n",
        "      \n",
        "    # Appplying dilation on the threshold image \n",
        "    dilation = cv2.dilate(thresh1, rect_kernel, iterations = 5)#5 \n",
        "    cv2_imshow(dilation)  \n",
        "    # Finding contours \n",
        "    contours, hierarchy = cv2.findContours(dilation, cv2.RETR_EXTERNAL, cv2.CHAIN_APPROX_NONE) \n",
        "      \n",
        "    # Creating a copy of image \n",
        "    im2 = img.copy() \n",
        "    print(\"Beginning Sentence Semenation..............\")\n",
        "      \n",
        "    # Looping through the identified contours \n",
        "    # Then rectangular part is cropped and passed to get letters from this line \n",
        "    lines = []\n",
        "    for cnt in contours: \n",
        "        x, y, w, h = cv2.boundingRect(cnt) \n",
        "          \n",
        "        # Drawing a rectangle on copied image \n",
        "        rect = cv2.rectangle(im2, (x, y), (x + w, y + h), (0, 255, 0), 2) \n",
        "          \n",
        "        # Cropping the text block for giving input to OCR \n",
        "        cropped = im2[y:y + h, x:x + w] \n",
        "        lines.append((x, w,cropped))\n",
        "    # cv2_imshow(im2)\n",
        "    text = []\n",
        "\n",
        "    for i in lines:\n",
        "      # cv2_imshow(i[2])\n",
        "      temp = getLetters(i[2])\n",
        "      text.append(temp)\n",
        "    return text\n"
      ],
      "execution_count": 4,
      "outputs": []
    },
    {
      "cell_type": "code",
      "metadata": {
        "id": "uYCWJeTsAQEA",
        "colab": {
          "base_uri": "https://localhost:8080/",
          "height": 1000
        },
        "outputId": "0b950fd9-daf0-4374-ab8f-3eea8ee6c293"
      },
      "source": [
        "img = cv2.imread(\"/finalImage.jpg\")\n",
        "\n",
        "TextImageData = getTextImageData(img)\n"
      ],
      "execution_count": 6,
      "outputs": [
        {
          "output_type": "stream",
          "text": [
            "\n",
            "........Program Initiated.......\n",
            "\n"
          ],
          "name": "stdout"
        },
        {
          "output_type": "display_data",
          "data": {
            "image/png": "[encoded data removed]",
            "text/plain": [
              "<PIL.Image.Image image mode=L size=1220x915 at 0x7FBDD06451D0>"
            ]
          },
          "metadata": {
            "tags": []
          }
        },
        {
          "output_type": "stream",
          "text": [
            "Beginning Sentence Semenation..............\n",
            "\n",
            " Resizing Image........\n",
            "#---------Image Info:--------#\n",
            "\tHeight = 185 \n",
            "\tWidth = 1020\n",
            "#----------------------------#\n",
            "Noise Removal From Image.........\n",
            "Applying Threshold ..............\n",
            "Beginning Character Semenation..............\n",
            "R 0 3 3 1017 182 183885.5 [-1 -1  1 -1]\n",
            "R 1 103 71 41 64 1054.5 [ 2 -1 -1  0]\n",
            "R 2 42 69 52 70 2868.0 [4 1 3 0]\n",
            "R 3 51 79 35 52 1360.0 [-1 -1 -1  2]\n",
            "R 4 152 68 44 66 1690.5 [6 2 5 0]\n",
            "R 5 166 76 22 23 326.0 [-1 -1 -1  4]\n",
            "R 6 259 66 67 67 1571.5 [ 7  4 -1  0]\n",
            "R 7 334 65 45 67 1172.0 [ 8  6 -1  0]\n",
            "R 8 379 58 53 71 1182.5 [ 9  7 -1  0]\n",
            "R 9 455 55 44 73 2545.0 [11  8 10  0]\n",
            "R 10 463 63 28 57 1216.0 [-1 -1 -1  9]\n",
            "R 11 512 54 48 69 1952.0 [13  9 12  0]\n",
            "R 12 522 63 25 29 525.5 [-1 -1 -1 11]\n",
            "R 13 664 49 46 70 1753.0 [15 11 14  0]\n",
            "R 14 676 57 21 27 371.5 [-1 -1 -1 13]\n",
            "R 15 761 48 45 72 1104.5 [16 13 -1  0]\n",
            "R 16 716 47 40 70 2116.5 [18 15 17  0]\n",
            "R 17 725 55 24 53 938.0 [-1 -1 -1 16]\n",
            "R 18 613 47 49 70 1634.0 [20 16 19  0]\n",
            "R 19 634 57 19 24 262.0 [-1 -1 -1 18]\n",
            "R 20 875 46 41 65 824.5 [21 18 -1  0]\n",
            "R 21 818 45 41 71 1109.0 [22 20 -1  0]\n",
            "R 22 924 41 50 69 802.5 [-1 21 -1  0]\n",
            "15\n"
          ],
          "name": "stdout"
        },
        {
          "output_type": "display_data",
          "data": {
            "image/png": "[encoded data removed]",
            "text/plain": [
              "<PIL.Image.Image image mode=L size=28x28 at 0x7FBDC5D3ABE0>"
            ]
          },
          "metadata": {
            "tags": []
          }
        },
        {
          "output_type": "stream",
          "text": [
            "(28, 28)\n"
          ],
          "name": "stdout"
        },
        {
          "output_type": "display_data",
          "data": {
            "image/png": "[encoded data removed]",
            "text/plain": [
              "<PIL.Image.Image image mode=L size=28x28 at 0x7FBDD0645048>"
            ]
          },
          "metadata": {
            "tags": []
          }
        },
        {
          "output_type": "stream",
          "text": [
            "(28, 28)\n"
          ],
          "name": "stdout"
        },
        {
          "output_type": "display_data",
          "data": {
            "image/png": "[encoded data removed]",
            "text/plain": [
              "<PIL.Image.Image image mode=L size=28x28 at 0x7FBDC5D3AC50>"
            ]
          },
          "metadata": {
            "tags": []
          }
        },
        {
          "output_type": "stream",
          "text": [
            "(28, 28)\n"
          ],
          "name": "stdout"
        },
        {
          "output_type": "display_data",
          "data": {
            "image/png": "[encoded data removed]",
            "text/plain": [
              "<PIL.Image.Image image mode=L size=28x28 at 0x7FBDC5D3AC50>"
            ]
          },
          "metadata": {
            "tags": []
          }
        },
        {
          "output_type": "stream",
          "text": [
            "(28, 28)\n"
          ],
          "name": "stdout"
        },
        {
          "output_type": "display_data",
          "data": {
            "image/png": "[encoded data removed]",
            "text/plain": [
              "<PIL.Image.Image image mode=L size=28x28 at 0x7FBDD0645048>"
            ]
          },
          "metadata": {
            "tags": []
          }
        },
        {
          "output_type": "stream",
          "text": [
            "(28, 28)\n"
          ],
          "name": "stdout"
        },
        {
          "output_type": "display_data",
          "data": {
            "image/png": "[encoded data removed]",
            "text/plain": [
              "<PIL.Image.Image image mode=L size=28x28 at 0x7FBDD0645198>"
            ]
          },
          "metadata": {
            "tags": []
          }
        },
        {
          "output_type": "stream",
          "text": [
            "(28, 28)\n"
          ],
          "name": "stdout"
        },
        {
          "output_type": "display_data",
          "data": {
            "image/png": "[encoded data removed]",
            "text/plain": [
              "<PIL.Image.Image image mode=L size=28x28 at 0x7FBDD06451D0>"
            ]
          },
          "metadata": {
            "tags": []
          }
        },
        {
          "output_type": "stream",
          "text": [
            "(28, 28)\n"
          ],
          "name": "stdout"
        },
        {
          "output_type": "display_data",
          "data": {
            "image/png": "[encoded data removed]",
            "text/plain": [
              "<PIL.Image.Image image mode=L size=28x28 at 0x7FBDD0645048>"
            ]
          },
          "metadata": {
            "tags": []
          }
        },
        {
          "output_type": "stream",
          "text": [
            "(28, 28)\n"
          ],
          "name": "stdout"
        },
        {
          "output_type": "display_data",
          "data": {
            "image/png": "[encoded data removed]",
            "text/plain": [
              "<PIL.Image.Image image mode=L size=28x28 at 0x7FBDD0645278>"
            ]
          },
          "metadata": {
            "tags": []
          }
        },
        {
          "output_type": "stream",
          "text": [
            "(28, 28)\n"
          ],
          "name": "stdout"
        },
        {
          "output_type": "display_data",
          "data": {
            "image/png": "[encoded data removed]",
            "text/plain": [
              "<PIL.Image.Image image mode=L size=28x28 at 0x7FBDD06451D0>"
            ]
          },
          "metadata": {
            "tags": []
          }
        },
        {
          "output_type": "stream",
          "text": [
            "(28, 28)\n"
          ],
          "name": "stdout"
        },
        {
          "output_type": "display_data",
          "data": {
            "image/png": "[encoded data removed]",
            "text/plain": [
              "<PIL.Image.Image image mode=L size=28x28 at 0x7FBDD0645048>"
            ]
          },
          "metadata": {
            "tags": []
          }
        },
        {
          "output_type": "stream",
          "text": [
            "(28, 28)\n"
          ],
          "name": "stdout"
        },
        {
          "output_type": "display_data",
          "data": {
            "image/png": "[encoded data removed]",
            "text/plain": [
              "<PIL.Image.Image image mode=L size=28x28 at 0x7FBDC5D3A4E0>"
            ]
          },
          "metadata": {
            "tags": []
          }
        },
        {
          "output_type": "stream",
          "text": [
            "(28, 28)\n"
          ],
          "name": "stdout"
        },
        {
          "output_type": "display_data",
          "data": {
            "image/png": "[encoded data removed]",
            "text/plain": [
              "<PIL.Image.Image image mode=L size=28x28 at 0x7FBDD06451D0>"
            ]
          },
          "metadata": {
            "tags": []
          }
        },
        {
          "output_type": "stream",
          "text": [
            "(28, 28)\n"
          ],
          "name": "stdout"
        },
        {
          "output_type": "display_data",
          "data": {
            "image/png": "[encoded data removed]",
            "text/plain": [
              "<PIL.Image.Image image mode=L size=28x28 at 0x7FBDD0645278>"
            ]
          },
          "metadata": {
            "tags": []
          }
        },
        {
          "output_type": "stream",
          "text": [
            "(28, 28)\n"
          ],
          "name": "stdout"
        },
        {
          "output_type": "display_data",
          "data": {
            "image/png": "[encoded data removed]",
            "text/plain": [
              "<PIL.Image.Image image mode=L size=28x28 at 0x7FBDD0645198>"
            ]
          },
          "metadata": {
            "tags": []
          }
        },
        {
          "output_type": "stream",
          "text": [
            "(28, 28)\n",
            "\n",
            " Resizing Image........\n",
            "#---------Image Info:--------#\n",
            "\tHeight = 296 \n",
            "\tWidth = 1020\n",
            "#----------------------------#\n",
            "Noise Removal From Image.........\n",
            "Applying Threshold ..............\n",
            "Beginning Character Semenation..............\n",
            "R 0 5 5 1013 289 291454.0 [-1 -1  1 -1]\n",
            "R 1 178 145 62 66 2005.5 [ 3 -1  2  0]\n",
            "R 2 200 159 21 8 93.5 [-1 -1 -1  1]\n",
            "R 3 392 134 54 67 2581.5 [5 1 4 0]\n",
            "R 4 402 151 33 39 794.5 [-1 -1 -1  3]\n",
            "R 5 662 118 56 66 2815.5 [7 3 6 0]\n",
            "R 6 673 131 35 42 985.0 [-1 -1 -1  5]\n",
            "R 7 738 113 60 64 1414.5 [ 8  5 -1  0]\n",
            "R 8 546 113 98 69 2723.0 [ 9  7 -1  0]\n",
            "R 9 75 90 67 118 2414.5 [10  8 -1  0]\n",
            "R 10 313 84 55 115 1451.5 [11  9 -1  0]\n",
            "R 11 816 81 48 108 1382.0 [12 10 -1  0]\n",
            "R 12 262 80 46 124 1502.5 [13 11 -1  0]\n",
            "R 13 883 75 53 108 2670.5 [-1 12 14  0]\n",
            "R 14 895 148 27 23 461.0 [-1 -1 -1 13]\n",
            "10\n"
          ],
          "name": "stdout"
        },
        {
          "output_type": "display_data",
          "data": {
            "image/png": "[encoded data removed]",
            "text/plain": [
              "<PIL.Image.Image image mode=L size=28x28 at 0x7FBDC5D4EB00>"
            ]
          },
          "metadata": {
            "tags": []
          }
        },
        {
          "output_type": "stream",
          "text": [
            "(28, 28)\n"
          ],
          "name": "stdout"
        },
        {
          "output_type": "display_data",
          "data": {
            "image/png": "[encoded data removed]",
            "text/plain": [
              "<PIL.Image.Image image mode=L size=28x28 at 0x7FBDC5D3A630>"
            ]
          },
          "metadata": {
            "tags": []
          }
        },
        {
          "output_type": "stream",
          "text": [
            "(28, 28)\n"
          ],
          "name": "stdout"
        },
        {
          "output_type": "display_data",
          "data": {
            "image/png": "[encoded data removed]",
            "text/plain": [
              "<PIL.Image.Image image mode=L size=28x28 at 0x7FBDC5D3A668>"
            ]
          },
          "metadata": {
            "tags": []
          }
        },
        {
          "output_type": "stream",
          "text": [
            "(28, 28)\n"
          ],
          "name": "stdout"
        },
        {
          "output_type": "display_data",
          "data": {
            "image/png": "[encoded data removed]",
            "text/plain": [
              "<PIL.Image.Image image mode=L size=28x28 at 0x7FBDC5D3A518>"
            ]
          },
          "metadata": {
            "tags": []
          }
        },
        {
          "output_type": "stream",
          "text": [
            "(28, 28)\n"
          ],
          "name": "stdout"
        },
        {
          "output_type": "display_data",
          "data": {
            "image/png": "[encoded data removed]",
            "text/plain": [
              "<PIL.Image.Image image mode=L size=28x28 at 0x7FBDC5D3AB38>"
            ]
          },
          "metadata": {
            "tags": []
          }
        },
        {
          "output_type": "stream",
          "text": [
            "(28, 28)\n"
          ],
          "name": "stdout"
        },
        {
          "output_type": "display_data",
          "data": {
            "image/png": "[encoded data removed]",
            "text/plain": [
              "<PIL.Image.Image image mode=L size=28x28 at 0x7FBDC5D3A6D8>"
            ]
          },
          "metadata": {
            "tags": []
          }
        },
        {
          "output_type": "stream",
          "text": [
            "(28, 28)\n"
          ],
          "name": "stdout"
        },
        {
          "output_type": "display_data",
          "data": {
            "image/png": "[encoded data removed]",
            "text/plain": [
              "<PIL.Image.Image image mode=L size=28x28 at 0x7FBDC5D3A710>"
            ]
          },
          "metadata": {
            "tags": []
          }
        },
        {
          "output_type": "stream",
          "text": [
            "(28, 28)\n"
          ],
          "name": "stdout"
        },
        {
          "output_type": "display_data",
          "data": {
            "image/png": "[encoded data removed]",
            "text/plain": [
              "<PIL.Image.Image image mode=L size=28x28 at 0x7FBDC5D3A668>"
            ]
          },
          "metadata": {
            "tags": []
          }
        },
        {
          "output_type": "stream",
          "text": [
            "(28, 28)\n"
          ],
          "name": "stdout"
        },
        {
          "output_type": "display_data",
          "data": {
            "image/png": "[encoded data removed]",
            "text/plain": [
              "<PIL.Image.Image image mode=L size=28x28 at 0x7FBDC5D3A6D8>"
            ]
          },
          "metadata": {
            "tags": []
          }
        },
        {
          "output_type": "stream",
          "text": [
            "(28, 28)\n"
          ],
          "name": "stdout"
        },
        {
          "output_type": "display_data",
          "data": {
            "image/png": "[encoded data removed]",
            "text/plain": [
              "<PIL.Image.Image image mode=L size=28x28 at 0x7FBDC5D3A710>"
            ]
          },
          "metadata": {
            "tags": []
          }
        },
        {
          "output_type": "stream",
          "text": [
            "(28, 28)\n",
            "\n",
            " Resizing Image........\n",
            "#---------Image Info:--------#\n",
            "\tHeight = 219 \n",
            "\tWidth = 1020\n",
            "#----------------------------#\n",
            "Noise Removal From Image.........\n",
            "Applying Threshold ..............\n",
            "Beginning Character Semenation..............\n",
            "R 0 4 4 1016 215 217202.5 [-1 -1  1 -1]\n",
            "R 1 261 84 54 74 1212.0 [ 2 -1 -1  0]\n",
            "R 2 103 82 45 79 2870.0 [4 1 3 0]\n",
            "R 3 111 91 29 61 1307.5 [-1 -1 -1  2]\n",
            "R 4 436 80 40 77 1335.5 [ 5  2 -1  0]\n",
            "R 5 49 79 41 83 1172.5 [ 6  4 -1  0]\n",
            "R 6 155 78 46 79 2123.5 [8 5 7 0]\n",
            "R 7 166 87 27 28 499.5 [-1 -1 -1  6]\n",
            "R 8 369 75 51 90 1274.0 [ 9  6 -1  0]\n",
            "R 9 494 74 51 73 1425.5 [11  8 10  0]\n",
            "R 10 507 95 14 19 133.0 [-1 -1 -1  9]\n",
            "R 11 546 70 59 71 2055.5 [13  9 12  0]\n",
            "R 12 563 79 27 22 354.0 [-1 -1 -1 11]\n",
            "R 13 656 63 72 70 1605.0 [14 11 -1  0]\n",
            "R 14 773 53 46 75 1245.0 [15 13 -1  0]\n",
            "R 15 825 51 49 74 1254.0 [16 14 -1  0]\n",
            "R 16 893 49 73 77 1836.0 [-1 15 -1  0]\n",
            "12\n"
          ],
          "name": "stdout"
        },
        {
          "output_type": "display_data",
          "data": {
            "image/png": "[encoded data removed]",
            "text/plain": [
              "<PIL.Image.Image image mode=L size=28x28 at 0x7FBDC5D3ADD8>"
            ]
          },
          "metadata": {
            "tags": []
          }
        },
        {
          "output_type": "stream",
          "text": [
            "(28, 28)\n"
          ],
          "name": "stdout"
        },
        {
          "output_type": "display_data",
          "data": {
            "image/png": "[encoded data removed]",
            "text/plain": [
              "<PIL.Image.Image image mode=L size=28x28 at 0x7FBDC5D3A668>"
            ]
          },
          "metadata": {
            "tags": []
          }
        },
        {
          "output_type": "stream",
          "text": [
            "(28, 28)\n"
          ],
          "name": "stdout"
        },
        {
          "output_type": "display_data",
          "data": {
            "image/png": "[encoded data removed]",
            "text/plain": [
              "<PIL.Image.Image image mode=L size=28x28 at 0x7FBDC5D3A6D8>"
            ]
          },
          "metadata": {
            "tags": []
          }
        },
        {
          "output_type": "stream",
          "text": [
            "(28, 28)\n"
          ],
          "name": "stdout"
        },
        {
          "output_type": "display_data",
          "data": {
            "image/png": "[encoded data removed]",
            "text/plain": [
              "<PIL.Image.Image image mode=L size=28x28 at 0x7FBDC5D3ADD8>"
            ]
          },
          "metadata": {
            "tags": []
          }
        },
        {
          "output_type": "stream",
          "text": [
            "(28, 28)\n"
          ],
          "name": "stdout"
        },
        {
          "output_type": "display_data",
          "data": {
            "image/png": "[encoded data removed]",
            "text/plain": [
              "<PIL.Image.Image image mode=L size=28x28 at 0x7FBDC5D3A668>"
            ]
          },
          "metadata": {
            "tags": []
          }
        },
        {
          "output_type": "stream",
          "text": [
            "(28, 28)\n"
          ],
          "name": "stdout"
        },
        {
          "output_type": "display_data",
          "data": {
            "image/png": "[encoded data removed]",
            "text/plain": [
              "<PIL.Image.Image image mode=L size=28x28 at 0x7FBDC5D3AE10>"
            ]
          },
          "metadata": {
            "tags": []
          }
        },
        {
          "output_type": "stream",
          "text": [
            "(28, 28)\n"
          ],
          "name": "stdout"
        },
        {
          "output_type": "display_data",
          "data": {
            "image/png": "[encoded data removed]",
            "text/plain": [
              "<PIL.Image.Image image mode=L size=28x28 at 0x7FBDC5D3ADD8>"
            ]
          },
          "metadata": {
            "tags": []
          }
        },
        {
          "output_type": "stream",
          "text": [
            "(28, 28)\n"
          ],
          "name": "stdout"
        },
        {
          "output_type": "display_data",
          "data": {
            "image/png": "[encoded data removed]",
            "text/plain": [
              "<PIL.Image.Image image mode=L size=28x28 at 0x7FBDC5D3A668>"
            ]
          },
          "metadata": {
            "tags": []
          }
        },
        {
          "output_type": "stream",
          "text": [
            "(28, 28)\n"
          ],
          "name": "stdout"
        },
        {
          "output_type": "display_data",
          "data": {
            "image/png": "[encoded data removed]",
            "text/plain": [
              "<PIL.Image.Image image mode=L size=28x28 at 0x7FBDC5D3AE10>"
            ]
          },
          "metadata": {
            "tags": []
          }
        },
        {
          "output_type": "stream",
          "text": [
            "(28, 28)\n"
          ],
          "name": "stdout"
        },
        {
          "output_type": "display_data",
          "data": {
            "image/png": "[encoded data removed]",
            "text/plain": [
              "<PIL.Image.Image image mode=L size=28x28 at 0x7FBDC5D3ADD8>"
            ]
          },
          "metadata": {
            "tags": []
          }
        },
        {
          "output_type": "stream",
          "text": [
            "(28, 28)\n"
          ],
          "name": "stdout"
        },
        {
          "output_type": "display_data",
          "data": {
            "image/png": "[encoded data removed]",
            "text/plain": [
              "<PIL.Image.Image image mode=L size=28x28 at 0x7FBDC5D3A668>"
            ]
          },
          "metadata": {
            "tags": []
          }
        },
        {
          "output_type": "stream",
          "text": [
            "(28, 28)\n"
          ],
          "name": "stdout"
        },
        {
          "output_type": "display_data",
          "data": {
            "image/png": "[encoded data removed]",
            "text/plain": [
              "<PIL.Image.Image image mode=L size=28x28 at 0x7FBDC5D3AE10>"
            ]
          },
          "metadata": {
            "tags": []
          }
        },
        {
          "output_type": "stream",
          "text": [
            "(28, 28)\n"
          ],
          "name": "stdout"
        }
      ]
    },
    {
      "cell_type": "code",
      "metadata": {
        "id": "4esbKZRq2eg_",
        "colab": {
          "base_uri": "https://localhost:8080/",
          "height": 1000
        },
        "outputId": "46fbe6f9-8868-41b0-bf2e-d5faac5e5850"
      },
      "source": [
        "#Visualize data\n",
        "# for i in text:\n",
        "#   for j in i:\n",
        "#     ret,thresh1 = cv2.threshold(j[2], 0, 255, cv2.THRESH_OTSU | cv2.THRESH_BINARY_INV) \n",
        "#     plt.imshow(thresh1,cmap='gray')\n",
        "#     plt.colorbar()\n",
        "#     plt.show()\n",
        "# print(TextImageData[0][2].shape)\n",
        "for Lines in TextImageData:\n",
        "  for c in Lines :\n",
        "    img_arr = np.expand_dims(c[2], axis=0)\n",
        "    img_arr = 1 - img_arr/255.0\n",
        "    # img_arr = np.rot90(img_arr, 3)\n",
        "    # img_arr = np.fliplr(img_arr)\n",
        "    img_arr = img_arr.reshape((28,28))\n",
        "    plt.imshow(img_arr,cmap='gray')\n",
        "    plt.colorbar()\n",
        "    plt.show()\n",
        "    \n",
        "\n"
      ],
      "execution_count": 7,
      "outputs": [
        {
          "output_type": "display_data",
          "data": {
            "image/png": "[encoded data removed]",
            "text/plain": [
              "<Figure size 432x288 with 2 Axes>"
            ]
          },
          "metadata": {
            "tags": [],
            "needs_background": "light"
          }
        },
        {
          "output_type": "display_data",
          "data": {
            "image/png": "[encoded data removed]",
            "text/plain": [
              "<Figure size 432x288 with 2 Axes>"
            ]
          },
          "metadata": {
            "tags": [],
            "needs_background": "light"
          }
        },
        {
          "output_type": "display_data",
          "data": {
            "image/png": "[encoded data removed]",
            "text/plain": [
              "<Figure size 432x288 with 2 Axes>"
            ]
          },
          "metadata": {
            "tags": [],
            "needs_background": "light"
          }
        },
        {
          "output_type": "display_data",
          "data": {
            "image/png": "[encoded data removed]",
            "text/plain": [
              "<Figure size 432x288 with 2 Axes>"
            ]
          },
          "metadata": {
            "tags": [],
            "needs_background": "light"
          }
        },
        {
          "output_type": "display_data",
          "data": {
            "image/png": "[encoded data removed]",
            "text/plain": [
              "<Figure size 432x288 with 2 Axes>"
            ]
          },
          "metadata": {
            "tags": [],
            "needs_background": "light"
          }
        },
        {
          "output_type": "display_data",
          "data": {
            "image/png": "[encoded data removed]",
            "text/plain": [
              "<Figure size 432x288 with 2 Axes>"
            ]
          },
          "metadata": {
            "tags": [],
            "needs_background": "light"
          }
        },
        {
          "output_type": "display_data",
          "data": {
            "image/png": "[encoded data removed]",
            "text/plain": [
              "<Figure size 432x288 with 2 Axes>"
            ]
          },
          "metadata": {
            "tags": [],
            "needs_background": "light"
          }
        },
        {
          "output_type": "display_data",
          "data": {
            "image/png": "[encoded data removed]",
            "text/plain": [
              "<Figure size 432x288 with 2 Axes>"
            ]
          },
          "metadata": {
            "tags": [],
            "needs_background": "light"
          }
        },
        {
          "output_type": "display_data",
          "data": {
            "image/png": "[encoded data removed]",
            "text/plain": [
              "<Figure size 432x288 with 2 Axes>"
            ]
          },
          "metadata": {
            "tags": [],
            "needs_background": "light"
          }
        },
        {
          "output_type": "display_data",
          "data": {
            "image/png": "[encoded data removed]",
            "text/plain": [
              "<Figure size 432x288 with 2 Axes>"
            ]
          },
          "metadata": {
            "tags": [],
            "needs_background": "light"
          }
        },
        {
          "output_type": "display_data",
          "data": {
            "image/png": "[encoded data removed]",
            "text/plain": [
              "<Figure size 432x288 with 2 Axes>"
            ]
          },
          "metadata": {
            "tags": [],
            "needs_background": "light"
          }
        },
        {
          "output_type": "display_data",
          "data": {
            "image/png": "[encoded data removed]",
            "text/plain": [
              "<Figure size 432x288 with 2 Axes>"
            ]
          },
          "metadata": {
            "tags": [],
            "needs_background": "light"
          }
        },
        {
          "output_type": "display_data",
          "data": {
            "image/png": "[encoded data removed]",
            "text/plain": [
              "<Figure size 432x288 with 2 Axes>"
            ]
          },
          "metadata": {
            "tags": [],
            "needs_background": "light"
          }
        },
        {
          "output_type": "display_data",
          "data": {
            "image/png": "[encoded data removed]",
            "text/plain": [
              "<Figure size 432x288 with 2 Axes>"
            ]
          },
          "metadata": {
            "tags": [],
            "needs_background": "light"
          }
        },
        {
          "output_type": "display_data",
          "data": {
            "image/png": "[encoded data removed]",
            "text/plain": [
              "<Figure size 432x288 with 2 Axes>"
            ]
          },
          "metadata": {
            "tags": [],
            "needs_background": "light"
          }
        },
        {
          "output_type": "display_data",
          "data": {
            "image/png": "[encoded data removed]",
            "text/plain": [
              "<Figure size 432x288 with 2 Axes>"
            ]
          },
          "metadata": {
            "tags": [],
            "needs_background": "light"
          }
        },
        {
          "output_type": "display_data",
          "data": {
            "image/png": "[encoded data removed]",
            "text/plain": [
              "<Figure size 432x288 with 2 Axes>"
            ]
          },
          "metadata": {
            "tags": [],
            "needs_background": "light"
          }
        },
        {
          "output_type": "display_data",
          "data": {
            "image/png": "[encoded data removed]",
            "text/plain": [
              "<Figure size 432x288 with 2 Axes>"
            ]
          },
          "metadata": {
            "tags": [],
            "needs_background": "light"
          }
        },
        {
          "output_type": "display_data",
          "data": {
            "image/png": "[encoded data removed]",
            "text/plain": [
              "<Figure size 432x288 with 2 Axes>"
            ]
          },
          "metadata": {
            "tags": [],
            "needs_background": "light"
          }
        },
        {
          "output_type": "display_data",
          "data": {
            "image/png": "[encoded data removed]",
            "text/plain": [
              "<Figure size 432x288 with 2 Axes>"
            ]
          },
          "metadata": {
            "tags": [],
            "needs_background": "light"
          }
        },
        {
          "output_type": "display_data",
          "data": {
            "image/png": "[encoded data removed]",
            "text/plain": [
              "<Figure size 432x288 with 2 Axes>"
            ]
          },
          "metadata": {
            "tags": [],
            "needs_background": "light"
          }
        },
        {
          "output_type": "display_data",
          "data": {
            "image/png": "[encoded data removed]",
            "text/plain": [
              "<Figure size 432x288 with 2 Axes>"
            ]
          },
          "metadata": {
            "tags": [],
            "needs_background": "light"
          }
        },
        {
          "output_type": "display_data",
          "data": {
            "image/png": "[encoded data removed]",
            "text/plain": [
              "<Figure size 432x288 with 2 Axes>"
            ]
          },
          "metadata": {
            "tags": [],
            "needs_background": "light"
          }
        },
        {
          "output_type": "display_data",
          "data": {
            "image/png": "[encoded data removed]",
            "text/plain": [
              "<Figure size 432x288 with 2 Axes>"
            ]
          },
          "metadata": {
            "tags": [],
            "needs_background": "light"
          }
        },
        {
          "output_type": "display_data",
          "data": {
            "image/png": "[encoded data removed]",
            "text/plain": [
              "<Figure size 432x288 with 2 Axes>"
            ]
          },
          "metadata": {
            "tags": [],
            "needs_background": "light"
          }
        },
        {
          "output_type": "display_data",
          "data": {
            "image/png": "[encoded data removed]",
            "text/plain": [
              "<Figure size 432x288 with 2 Axes>"
            ]
          },
          "metadata": {
            "tags": [],
            "needs_background": "light"
          }
        },
        {
          "output_type": "display_data",
          "data": {
            "image/png": "[encoded data removed]",
            "text/plain": [
              "<Figure size 432x288 with 2 Axes>"
            ]
          },
          "metadata": {
            "tags": [],
            "needs_background": "light"
          }
        },
        {
          "output_type": "display_data",
          "data": {
            "image/png": "[encoded data removed]",
            "text/plain": [
              "<Figure size 432x288 with 2 Axes>"
            ]
          },
          "metadata": {
            "tags": [],
            "needs_background": "light"
          }
        },
        {
          "output_type": "display_data",
          "data": {
            "image/png": "[encoded data removed]",
            "text/plain": [
              "<Figure size 432x288 with 2 Axes>"
            ]
          },
          "metadata": {
            "tags": [],
            "needs_background": "light"
          }
        },
        {
          "output_type": "display_data",
          "data": {
            "image/png": "[encoded data removed]",
            "text/plain": [
              "<Figure size 432x288 with 2 Axes>"
            ]
          },
          "metadata": {
            "tags": [],
            "needs_background": "light"
          }
        },
        {
          "output_type": "display_data",
          "data": {
            "image/png": "[encoded data removed]",
            "text/plain": [
              "<Figure size 432x288 with 2 Axes>"
            ]
          },
          "metadata": {
            "tags": [],
            "needs_background": "light"
          }
        },
        {
          "output_type": "display_data",
          "data": {
            "image/png": "[encoded data removed]",
            "text/plain": [
              "<Figure size 432x288 with 2 Axes>"
            ]
          },
          "metadata": {
            "tags": [],
            "needs_background": "light"
          }
        },
        {
          "output_type": "display_data",
          "data": {
            "image/png": "[encoded data removed]",
            "text/plain": [
              "<Figure size 432x288 with 2 Axes>"
            ]
          },
          "metadata": {
            "tags": [],
            "needs_background": "light"
          }
        },
        {
          "output_type": "display_data",
          "data": {
            "image/png": "[encoded data removed]",
            "text/plain": [
              "<Figure size 432x288 with 2 Axes>"
            ]
          },
          "metadata": {
            "tags": [],
            "needs_background": "light"
          }
        },
        {
          "output_type": "display_data",
          "data": {
            "image/png": "[encoded data removed]",
            "text/plain": [
              "<Figure size 432x288 with 2 Axes>"
            ]
          },
          "metadata": {
            "tags": [],
            "needs_background": "light"
          }
        },
        {
          "output_type": "display_data",
          "data": {
            "image/png": "[encoded data removed]",
            "text/plain": [
              "<Figure size 432x288 with 2 Axes>"
            ]
          },
          "metadata": {
            "tags": [],
            "needs_background": "light"
          }
        },
        {
          "output_type": "display_data",
          "data": {
            "image/png": "[encoded data removed]",
            "text/plain": [
              "<Figure size 432x288 with 2 Axes>"
            ]
          },
          "metadata": {
            "tags": [],
            "needs_background": "light"
          }
        }
      ]
    },
    {
      "cell_type": "markdown",
      "metadata": {
        "id": "SklQu56ReXOS"
      },
      "source": [
        "**Downloading Dataset**"
      ]
    },
    {
      "cell_type": "code",
      "metadata": {
        "id": "5c3emBvNajHi",
        "colab": {
          "base_uri": "https://localhost:8080/",
          "height": 34
        },
        "outputId": "875bdef5-05bb-41b7-9422-1ce7ad6b556f"
      },
      "source": [
        "import urllib.request\n",
        "from urllib.request import urlretrieve\n",
        "urllib.request.urlretrieve (\"http://biometrics.nist.gov/cs_links/EMNIST/gzip.zip\", \"/content/data.zip\")"
      ],
      "execution_count": null,
      "outputs": [
        {
          "output_type": "execute_result",
          "data": {
            "text/plain": [
              "('/content/data.zip', <http.client.HTTPMessage at 0x7f11b859c6a0>)"
            ]
          },
          "metadata": {
            "tags": []
          },
          "execution_count": 5
        }
      ]
    },
    {
      "cell_type": "code",
      "metadata": {
        "id": "70qj3N7te-8z"
      },
      "source": [
        "#Unzip the Dataset\n",
        "import zipfile\n",
        "zip_ref = zipfile.ZipFile('/content/data.zip', 'r')\n",
        "zip_ref.extractall('/content/data/')\n",
        "zip_ref.close()\n"
      ],
      "execution_count": null,
      "outputs": []
    },
    {
      "cell_type": "code",
      "metadata": {
        "id": "LwUPWfEzVCd3"
      },
      "source": [
        "#Unzip all the data sets\n",
        "import struct\n",
        "import gzip\n",
        "def read_idx(filename):\n",
        "  print('Processing data from ',filename)\n",
        "  with gzip.open(filename,'rb') as f:\n",
        "    z, dtype, dim = struct.unpack('>HBB',f.read(4))\n",
        "    print(\"Dimention:\",dim)\n",
        "    shape = tuple(struct.unpack('>I',f.read(4))[0] for d in range(dim)) \n",
        "    print(\"Shape:\",shape)\n",
        "    return np.frombuffer(f.read(),dtype=np.uint8).reshape(shape)\n"
      ],
      "execution_count": null,
      "outputs": []
    },
    {
      "cell_type": "code",
      "metadata": {
        "id": "2yb19p8vgMZy",
        "colab": {
          "base_uri": "https://localhost:8080/",
          "height": 221
        },
        "outputId": "3c8fe375-88f5-4fdf-ecf2-1be2fee51dde"
      },
      "source": [
        "#Loading Data\n",
        "def load_eData():\n",
        "  train_images = \"/content/data/gzip/emnist-byclass-train-images-idx3-ubyte.gz\"\n",
        "  train_labels = \"/content/data/gzip/emnist-byclass-train-labels-idx1-ubyte.gz\"\n",
        "  test_images = \"/content/data/gzip/emnist-byclass-test-images-idx3-ubyte.gz\"\n",
        "  test_labels = \"/content/data/gzip/emnist-byclass-test-labels-idx1-ubyte.gz\"\n",
        "  X_train = read_idx(train_images)\n",
        "  Y_train = read_idx(train_labels)\n",
        "  X_test = read_idx(test_images)\n",
        "  Y_test = read_idx(test_labels)\n",
        "  return(X_train, Y_train, X_test, Y_test)\n",
        "X_train, y_train, X_test, y_test = load_eData()"
      ],
      "execution_count": null,
      "outputs": [
        {
          "output_type": "stream",
          "text": [
            "Processing data from  /content/data/gzip/emnist-byclass-train-images-idx3-ubyte.gz\n",
            "Dimention: 3\n",
            "Shape: (697932, 28, 28)\n",
            "Processing data from  /content/data/gzip/emnist-byclass-train-labels-idx1-ubyte.gz\n",
            "Dimention: 1\n",
            "Shape: (697932,)\n",
            "Processing data from  /content/data/gzip/emnist-byclass-test-images-idx3-ubyte.gz\n",
            "Dimention: 3\n",
            "Shape: (116323, 28, 28)\n",
            "Processing data from  /content/data/gzip/emnist-byclass-test-labels-idx1-ubyte.gz\n",
            "Dimention: 1\n",
            "Shape: (116323,)\n"
          ],
          "name": "stdout"
        }
      ]
    },
    {
      "cell_type": "markdown",
      "metadata": {
        "id": "bUexhnVaAoKq"
      },
      "source": [
        "**Mounting the Google Drive**"
      ]
    },
    {
      "cell_type": "code",
      "metadata": {
        "id": "eVg7SmIHzBAU",
        "cellView": "both",
        "colab": {
          "base_uri": "https://localhost:8080/",
          "height": 34
        },
        "outputId": "f734f9da-6a17-42cb-951c-a62161675477"
      },
      "source": [
        "# from google.colab import files\n",
        "# uploaded = files.upload()\n",
        "from google.colab import drive\n",
        "drive.mount('/content/drive')"
      ],
      "execution_count": null,
      "outputs": [
        {
          "output_type": "stream",
          "text": [
            "Drive already mounted at /content/drive; to attempt to forcibly remount, call drive.mount(\"/content/drive\", force_remount=True).\n"
          ],
          "name": "stdout"
        }
      ]
    },
    {
      "cell_type": "markdown",
      "metadata": {
        "id": "A-B75_3WzgxO"
      },
      "source": [
        "**Loading the Trainning Data From Google Drive**"
      ]
    },
    {
      "cell_type": "code",
      "metadata": {
        "id": "5v21bKhsKZ9O"
      },
      "source": [
        "#!pip install idx2numpy\n",
        "# import idx2numpy\n",
        "#  def load_emnist():\n",
        "#   train_images = \"/content/drive/My Drive/majorproject/DataSet/emnist-byclass-train-images-idx3-ubyte\"\n",
        "#   train_labels = \"/content/drive/My Drive/majorproject/DataSet/emnist-byclass-train-labels-idx1-ubyte\"\n",
        "#   test_images = \"/content/drive/My Drive/majorproject/DataSet/emnist-byclass-test-images-idx3-ubyte\"\n",
        "#   test_labels = \"/content/drive/My Drive/majorproject/DataSet/emnist-byclass-test-labels-idx1-ubyte\"\n",
        "\n",
        "#   X_train = idx2numpy.convert_from_file(train_images)\n",
        "#   Y_train = idx2numpy.convert_from_file(train_labels)\n",
        "#   X_test = idx2numpy.convert_from_file(test_images)\n",
        "#   Y_test = idx2numpy.convert_from_file(test_labels)\n",
        " \n",
        "#   print(X_train.shape ,Y_train.shape,X_test.shape ,Y_test.shape)\n",
        "#   return(X_train, Y_train, X_test, Y_test)"
      ],
      "execution_count": null,
      "outputs": []
    },
    {
      "cell_type": "code",
      "metadata": {
        "id": "8myN0E0aKaSD"
      },
      "source": [
        "# r_trainx,r_trainy,r_testx,r_testy = load_emnist();"
      ],
      "execution_count": null,
      "outputs": []
    },
    {
      "cell_type": "code",
      "metadata": {
        "id": "98EGyc87nWEB",
        "colab": {
          "base_uri": "https://localhost:8080/",
          "height": 281
        },
        "outputId": "cdbae655-81fa-4217-f5da-6cd5fdf471d9"
      },
      "source": [
        "#Visualize data\n",
        "def visualize(x):\n",
        "  labels ='0123456789ABCDEFGHIJKLMNOPQRSTUVWXYZabcdefghijklmnopqrstuvwxyz'\n",
        "  \n",
        "  plt.imshow(X_train[x].T, cmap='gray')\n",
        "  plt.title('label = %d = %s' % (y_train[x],labels[y_train[x]]))\n",
        "  plt.colorbar()\n",
        "  plt.show()\n",
        "visualize(174)"
      ],
      "execution_count": null,
      "outputs": [
        {
          "output_type": "display_data",
          "data": {
            "image/png": "[encoded data removed]",
            "text/plain": [
              "<Figure size 432x288 with 2 Axes>"
            ]
          },
          "metadata": {
            "tags": [],
            "needs_background": "light"
          }
        }
      ]
    },
    {
      "cell_type": "markdown",
      "metadata": {
        "id": "nt_ViXnmTjN-"
      },
      "source": [
        "**Prepare Data**"
      ]
    },
    {
      "cell_type": "code",
      "metadata": {
        "id": "yU8nPZKomuSQ"
      },
      "source": [
        "# print('Raw Train X Shape :',r_trainx.shape,'\\nRaw Train Y Shape :' ,r_trainy.shape,'\\nRaw Test X Shape :' ,r_testx.shape ,'\\nRaw Test Y Shape :' ,r_testy.shape)"
      ],
      "execution_count": null,
      "outputs": []
    },
    {
      "cell_type": "code",
      "metadata": {
        "id": "4gJ378aTv8w-"
      },
      "source": [
        "#Save the dimensions of the raw data\n",
        "# img_height = len(r_trainx[0])\n",
        "# img_width = len(r_trainx[1])\n",
        "# input_shape =img_height*img_width\n",
        "# print(img_height,img_width,input_shape)\n",
        "# train_X = r_trainx.reshape(len(r_trainx), input_shape)\n",
        "# test_X = r_testx.reshape(len(r_testx), input_shape)\n",
        "# train_X = train_X.astype('float32')\n",
        "# test_X = test_X.astype('float32')\n",
        "# train_X /= 255\n",
        "# test_X /= 255\n",
        "# train_y = np_utils.to_categorical(r_trainy)\n",
        "# test_y = np_utils.to_categorical(r_testy)"
      ],
      "execution_count": null,
      "outputs": []
    },
    {
      "cell_type": "code",
      "metadata": {
        "id": "j7Zd4uKqxMXk",
        "colab": {
          "base_uri": "https://localhost:8080/",
          "height": 34
        },
        "outputId": "d5d01a2c-23eb-49e4-855e-3b747cbcf232"
      },
      "source": [
        "#Flattning\n",
        "\n",
        "X_train = X_train.reshape(len(X_train), 784)\n",
        "X_test = X_test.reshape(len(X_test), 784)\n",
        "\n",
        "print(\"Train X Shape :\",X_train.shape,\", Test X Shape:\",X_test.shape)"
      ],
      "execution_count": null,
      "outputs": [
        {
          "output_type": "stream",
          "text": [
            "Train X Shape : (697932, 784) , Test X Shape: (116323, 784)\n"
          ],
          "name": "stdout"
        }
      ]
    },
    {
      "cell_type": "markdown",
      "metadata": {
        "id": "tqShElk5zxw3"
      },
      "source": [
        "Normalization"
      ]
    },
    {
      "cell_type": "code",
      "metadata": {
        "id": "NqsCuuC8yBB8",
        "colab": {
          "base_uri": "https://localhost:8080/",
          "height": 34
        },
        "outputId": "a4e30fc0-70b1-4bfe-d5b7-4cf0c37bf409"
      },
      "source": [
        "#We turn it into float to acquire precision\n",
        "\n",
        "X_train = X_train.astype('float32')\n",
        "X_test = X_test.astype('float32')\n",
        "\n",
        "\n",
        "print(X_test.dtype)"
      ],
      "execution_count": null,
      "outputs": [
        {
          "output_type": "stream",
          "text": [
            "float32\n"
          ],
          "name": "stdout"
        }
      ]
    },
    {
      "cell_type": "code",
      "metadata": {
        "id": "mHTDbc6T09uz"
      },
      "source": [
        "X_train/= 255\n",
        "X_test /= 255\n"
      ],
      "execution_count": null,
      "outputs": []
    },
    {
      "cell_type": "code",
      "metadata": {
        "id": "iQMuz1EJ1b0G",
        "colab": {
          "base_uri": "https://localhost:8080/",
          "height": 281
        },
        "outputId": "931ca848-0888-436e-f6b2-a3de3038080f"
      },
      "source": [
        "#Visualize data\n",
        "def visualize2(x):\n",
        "  labels ='0123456789ABCDEFGHIJKLMNOPQRSTUVWXYZabcdefghijklmnopqrstuvwxyz'\n",
        "  plt.imshow(X_train.reshape(len(X_train),28,28)[x].T, cmap='gray')\n",
        "  plt.title('label = %d = %s' % (y_train[x],labels[y_train[x]]))\n",
        "  plt.colorbar()\n",
        "  plt.show()\n",
        "visualize2(1995)"
      ],
      "execution_count": null,
      "outputs": [
        {
          "output_type": "display_data",
          "data": {
            "image/png": "[encoded data removed]",
            "text/plain": [
              "<Figure size 432x288 with 2 Axes>"
            ]
          },
          "metadata": {
            "tags": [],
            "needs_background": "light"
          }
        }
      ]
    },
    {
      "cell_type": "code",
      "metadata": {
        "id": "vqjxVvYw4AGL"
      },
      "source": [
        "Labels ='O123456789ABCDEFGHIJKLMNOPQRSTUVWXYZabcdefghijklmnopqrstuvwxyz'\n",
        "n_cat = len(Labels)\n",
        "\n",
        "\n",
        "def one_hot_encoder(labels):\n",
        "  n_labels = len(labels)\n",
        "  n_unique_labels = 62\n",
        "  one_hot_encoder = np.zeros((n_labels,n_unique_labels))\n",
        "  one_hot_encoder[np.arange(n_labels),labels] = 1\n",
        "  return(one_hot_encoder)\n",
        "Y_train = one_hot_encoder(y_train)\n",
        "Y_test = one_hot_encoder(y_test)\n"
      ],
      "execution_count": null,
      "outputs": []
    },
    {
      "cell_type": "code",
      "metadata": {
        "id": "sFUtJ8LK2Kz0",
        "colab": {
          "base_uri": "https://localhost:8080/",
          "height": 68
        },
        "outputId": "8c47e460-ced2-49b9-84ec-51efd0810116"
      },
      "source": [
        "print(y_train[1235],Y_train[1235],Labels[33],n_cat)"
      ],
      "execution_count": null,
      "outputs": [
        {
          "output_type": "stream",
          "text": [
            "33 [0. 0. 0. 0. 0. 0. 0. 0. 0. 0. 0. 0. 0. 0. 0. 0. 0. 0. 0. 0. 0. 0. 0. 0.\n",
            " 0. 0. 0. 0. 0. 0. 0. 0. 0. 1. 0. 0. 0. 0. 0. 0. 0. 0. 0. 0. 0. 0. 0. 0.\n",
            " 0. 0. 0. 0. 0. 0. 0. 0. 0. 0. 0. 0. 0. 0.] X 62\n"
          ],
          "name": "stdout"
        }
      ]
    },
    {
      "cell_type": "markdown",
      "metadata": {
        "id": "AyYsoN0eSgb4"
      },
      "source": [
        "**Defining a Model**(Tensorflow)"
      ]
    },
    {
      "cell_type": "code",
      "metadata": {
        "id": "cm4oxFEg281d",
        "colab": {
          "base_uri": "https://localhost:8080/",
          "height": 88
        },
        "outputId": "4525ca3a-2d05-46b2-9861-f23410a6036c"
      },
      "source": [
        "import matplotlib.pyplot as plt\n",
        "import tensorflow.compat.v1 as tf\n",
        "tf.disable_v2_behavior()\n",
        "import numpy as np\n",
        "import pandas as pd\n",
        "from sklearn.preprocessing import LabelEncoder\n",
        "from sklearn.utils import shuffle\n",
        "from sklearn.model_selection import train_test_split"
      ],
      "execution_count": null,
      "outputs": [
        {
          "output_type": "stream",
          "text": [
            "WARNING:tensorflow:From /usr/local/lib/python3.6/dist-packages/tensorflow/python/compat/v2_compat.py:96: disable_resource_variables (from tensorflow.python.ops.variable_scope) is deprecated and will be removed in a future version.\n",
            "Instructions for updating:\n",
            "non-resource variables are not supported in the long term\n"
          ],
          "name": "stdout"
        }
      ]
    },
    {
      "cell_type": "code",
      "metadata": {
        "id": "w_bmV1IQUujZ"
      },
      "source": [
        "epochs_completed = 0\n",
        "index_in_epoch = 0\n",
        "num_examples = X_train.shape[0]\n",
        " # for splitting out batches of data\n",
        "def next_batch(batch_size):\n",
        "\n",
        "    global X_train\n",
        "    global Y_train\n",
        "    global index_in_epoch\n",
        "    global epochs_completed\n",
        "\n",
        "    start = index_in_epoch\n",
        "    index_in_epoch += batch_size\n",
        "\n",
        "    # when all trainig data have been already used, it is reorder randomly    \n",
        "    if index_in_epoch > num_examples:\n",
        "        # finished epoch\n",
        "        epochs_completed += 1\n",
        "        # shuffle the data\n",
        "        perm = np.arange(num_examples)\n",
        "        np.random.shuffle(perm)\n",
        "        X_train = X_train[perm]\n",
        "        Y_train = Y_train[perm]\n",
        "        # start next epoch\n",
        "        start = 0\n",
        "        index_in_epoch = batch_size\n",
        "        assert batch_size <= num_examples\n",
        "    end = index_in_epoch\n",
        "    return X_train[start:end], Y_train[start:end]"
      ],
      "execution_count": null,
      "outputs": []
    },
    {
      "cell_type": "code",
      "metadata": {
        "id": "l0MDPGVR2Usk"
      },
      "source": [
        "# Python optimisation variables\n",
        "learning_rate = 0.3\n",
        "epochs = 10\n",
        "batch_size = 400\n",
        "tf.reset_default_graph()\n",
        "# tf.compat.v1.reset_default_graph()\n",
        "# declare the training data placeholders\n",
        "# input x - for 28 x 28 pixels = 784\n",
        "x = tf.placeholder(tf.float32, [None, 784])\n",
        "# now declare the output data placeholder - 62\n",
        "y = tf.placeholder(tf.float32, [None, 62])\n",
        "\n",
        "\n",
        "W1 = tf.Variable(tf.random_normal([784, 512], stddev=0.03), name='W1')\n",
        "b1 = tf.Variable(tf.random_normal([512]), name='b1')\n",
        "\n",
        "W2 = tf.Variable(tf.random_normal([512, 256], stddev=0.03), name='W2')\n",
        "b2 = tf.Variable(tf.random_normal([256]), name='b2')\n",
        "\n",
        "W3 = tf.Variable(tf.random_normal([256, 128], stddev=0.03), name='W3')\n",
        "b3 = tf.Variable(tf.random_normal([128]), name='b3')\n",
        "\n",
        "W4 = tf.Variable(tf.random_normal([128, 62], stddev=0.03), name='W4')\n",
        "b4 = tf.Variable(tf.random_normal([62]), name='b4')\n",
        "\n",
        "hidden_out1 = tf.add(tf.matmul(x, W1), b1)\n",
        "hidden_out1 = tf.nn.relu(hidden_out1)\n",
        "\n",
        "hidden_out2 = tf.add(tf.matmul(hidden_out1, W2), b2)\n",
        "hidden_out2 = tf.nn.relu(hidden_out2)\n",
        "\n",
        "hidden_out3 = tf.add(tf.matmul(hidden_out2, W3), b3)\n",
        "hidden_out3 = tf.nn.relu(hidden_out3)\n",
        "\n",
        "y_ = tf.nn.softmax(tf.add(tf.matmul(hidden_out3, W4), b4))\n",
        "\n",
        "y_clipped = tf.clip_by_value(y_, 1e-10, 0.9999999)\n",
        "cross_entropy = -tf.reduce_mean(tf.reduce_sum(y * tf.log(y_clipped)\n",
        "                         + (1 - y) * tf.log(1 - y_clipped), axis=1))\n",
        "\n",
        "optimiser = tf.train.GradientDescentOptimizer(learning_rate=learning_rate).minimize(cross_entropy)\n",
        "\n",
        "# finally setup the initialisation operator\n",
        "init_op = tf.global_variables_initializer()\n",
        "\n",
        "# define an accuracy assessment operation\n",
        "correct_prediction = tf.equal(tf.argmax(y, 1), tf.argmax(y_, 1))\n",
        "accuracy = tf.reduce_mean(tf.cast(correct_prediction, tf.float32))"
      ],
      "execution_count": null,
      "outputs": []
    },
    {
      "cell_type": "markdown",
      "metadata": {
        "id": "k_7TtiMBF64o"
      },
      "source": [
        "**Training and Saving a Model**"
      ]
    },
    {
      "cell_type": "code",
      "metadata": {
        "id": "09XA0PGT3IVo"
      },
      "source": [
        "# start the session\n",
        "#tf.reset_default_graph()\n",
        "\n",
        "accuracy_history = []\n",
        "\n",
        "with tf.Session() as sess:\n",
        "   # initialise the variables\n",
        "   saver1 = tf.train.Saver()\n",
        "   sess.run(init_op)\n",
        "   total_batch = int(len(Y_train) / batch_size)\n",
        "   for epoch in range(epochs):\n",
        "        avg_cost = 0\n",
        "        for i in range(total_batch):\n",
        "          batch_x, batch_y =next_batch(batch_size)\n",
        "          _, c = sess.run([optimiser, cross_entropy],feed_dict={x: batch_x, y: batch_y})\n",
        "          avg_cost += c / total_batch\n",
        "        correct_prediction1 = tf.equal(tf.argmax(y,1),tf.argmax(y_,1))\n",
        "        accuracy1 = tf.reduce_mean(tf.cast(correct_prediction1, tf.float32))\n",
        "        accuracy1 = (sess.run(accuracy1, feed_dict={x:X_train, y : Y_train}))\n",
        "        accuracy_history.append(accuracy1)\n",
        "        print('Epoch : ', epoch+1,\" - Train Accuracy : \", accuracy1)\n",
        "        print(\"Epoch:\", (epoch + 1), \"cost =\", \"{:.3f}\".format(avg_cost))\n",
        "   print(\"Test Accuracy : \",sess.run(accuracy, feed_dict={x: X_test, y:Y_test}))\n",
        "   save_path = saver1.save(sess, \"/content/model-4Layertest3/model10.ckpt\")\n",
        "   predictions = y_.eval(feed_dict = {x:X_test})\n",
        "   output = np.zeros_like(predictions)\n",
        "   output[np.arange(len(predictions)), predictions.argmax(1)] = 1\n",
        "   print(classification_report(Y_test, output, target_names=target_names))\n"
      ],
      "execution_count": null,
      "outputs": []
    },
    {
      "cell_type": "code",
      "metadata": {
        "id": "s2HVDqC-DXih",
        "colab": {
          "base_uri": "https://localhost:8080/",
          "height": 280
        },
        "outputId": "2687af17-97d6-4702-fba8-e8aa407984b5"
      },
      "source": [
        "plt.plot(accuracy_history)\n",
        "plt.xlabel('Epoch')\n",
        "plt.ylabel('Accuracy')\n",
        "plt.show()"
      ],
      "execution_count": null,
      "outputs": [
        {
          "output_type": "display_data",
          "data": {
            "image/png": "[encoded data removed]",
            "text/plain": [
              "<Figure size 432x288 with 1 Axes>"
            ]
          },
          "metadata": {
            "tags": []
          }
        }
      ]
    },
    {
      "cell_type": "code",
      "metadata": {
        "id": "D4nDeIVT2mvE"
      },
      "source": [
        "\n"
      ],
      "execution_count": null,
      "outputs": []
    },
    {
      "cell_type": "code",
      "metadata": {
        "id": "vj5yB3MgFDNO"
      },
      "source": [
        "output = np.zeros_like(predictions)\n",
        "output[np.arange(len(predictions)), predictions.argmax(1)] = 1\n",
        "random_num = 345\n",
        "ans = np.where(output[random_num] == 1)\n",
        "print(max(predictions[random_num]),output[random_num],Y_test[random_num],Labels[ans[0][0]],Labels[y_test[random_num]])\n",
        "plt.imshow(X_test.reshape(len(X_test),28,28)[random_num].T, cmap='gray')\n",
        "plt.title('label = %d = (actual)%s = (predicted)%s' % (y_test[random_num],Labels[y_test[random_num]],Labels[ans[0][0]]))\n",
        "plt.colorbar()\n",
        "plt.show()\n"
      ],
      "execution_count": null,
      "outputs": []
    },
    {
      "cell_type": "markdown",
      "metadata": {
        "id": "1fLql0tV4rh6"
      },
      "source": [
        "**Loading a Saved Model**"
      ]
    },
    {
      "cell_type": "code",
      "metadata": {
        "id": "kmMjuXWYDFhs"
      },
      "source": [
        "from sklearn.metrics import classification_report\n",
        "\n",
        "tf.reset_default_graph()\n",
        "x = tf.placeholder(tf.float32, [None, 784])\n",
        "# now declare the output data placeholder - 62\n",
        "y = tf.placeholder(tf.float32, [None, 62])\n",
        "\n",
        "\n",
        "W1 = tf.Variable(tf.random_normal([784, 512], stddev=0.03), name='W1')\n",
        "b1 = tf.Variable(tf.random_normal([512]), name='b1')\n",
        "\n",
        "W2 = tf.Variable(tf.random_normal([512, 256], stddev=0.03), name='W2')\n",
        "b2 = tf.Variable(tf.random_normal([256]), name='b2')\n",
        "\n",
        "W3 = tf.Variable(tf.random_normal([256, 128], stddev=0.03), name='W3')\n",
        "b3 = tf.Variable(tf.random_normal([128]), name='b3')\n",
        "\n",
        "W4 = tf.Variable(tf.random_normal([128, 62], stddev=0.03), name='W4')\n",
        "b4 = tf.Variable(tf.random_normal([62]), name='b4')\n",
        "\n",
        "\n",
        "hidden_out1 = tf.add(tf.matmul(x, W1), b1)\n",
        "hidden_out1 = tf.nn.relu(hidden_out1)\n",
        "\n",
        "hidden_out2 = tf.add(tf.matmul(hidden_out1, W2), b2)\n",
        "hidden_out2 = tf.nn.relu(hidden_out2)\n",
        "\n",
        "hidden_out3 = tf.add(tf.matmul(hidden_out2, W3), b3)\n",
        "hidden_out3 = tf.nn.relu(hidden_out3)\n",
        "\n",
        "y_ = tf.nn.softmax(tf.add(tf.matmul(hidden_out3, W4), b4))\n",
        "\n",
        "# from tensorflow.python.layers import base\n",
        "# import tensorflow.contrib.slim as slim\n",
        "\n",
        "# def model_summary():\n",
        "#     model_vars = tf.trainable_variables()\n",
        "#     slim.model_analyzer.analyze_vars(model_vars, print_info=True)\n",
        "\n",
        "# model_summary()\n"
      ],
      "execution_count": null,
      "outputs": []
    },
    {
      "cell_type": "code",
      "metadata": {
        "id": "ZoRPnScnqL5i"
      },
      "source": [
        "saver2 = tf.train.Saver()\n",
        "# l = \"O123456789ABCDEFGHIJKLMNOPQRSTUVWXYZabcdefghijklmnopqrstuvwxyz\"\n",
        "# target_names = list(l)\n",
        "s_out1 = \"\"\n",
        "# Launch the graph\n",
        "with tf.Session() as sess:\n",
        "    # Load the weights and bias\n",
        "    saver2.restore(sess, \"/content/drive/My Drive/majorproject/model-4Layertest3/model10.ckpt\")\n",
        "    for letters in TextImageData:\n",
        "      for i in range(len(letters)):\n",
        "        img_arr= np.expand_dims(letters[i][2], axis=0)\n",
        "        img_arr = 1 - img_arr/255.0\n",
        "        plt.imshow(letters[i][2],cmap='gray')\n",
        "        plt.colorbar()\n",
        "        plt.show()\n",
        "        img_arr[0] = np.rot90(img_arr[0], 3)\n",
        "        img_arr[0] = np.fliplr(img_arr[0])\n",
        "        img_arr = img_arr.reshape((1,784))\n",
        "        p_out = y_.eval(session = sess ,feed_dict = {x:img_arr})\n",
        "        output = np.zeros_like(p_out)\n",
        "        output[np.arange(len(p_out)), p_out.argmax(1)] = 1\n",
        "        ans = np.where(output == 1)\n",
        "        print(Labels[ans[1][0]], ans)\n",
        "              \n",
        "        dn = letters[i+1][0] - letters[i][0] - letters[i][1] if i < len(letters) - 1 else 0\n",
        "        s_out1 += Labels[ans[1][0]]\n",
        "        if (dn > letters[i][1]/1.5):\n",
        "          s_out1 += ' '\n",
        "      s_out1 += \"\\n\"\n",
        "\n",
        "\n",
        "print(s_out1)"
      ],
      "execution_count": null,
      "outputs": []
    },
    {
      "cell_type": "markdown",
      "metadata": {
        "id": "psxzYzlU-YYy"
      },
      "source": [
        "**Defining and Compile Model** (Keras)"
      ]
    },
    {
      "cell_type": "code",
      "metadata": {
        "id": "xGX7dvcIUBad",
        "colab": {
          "base_uri": "https://localhost:8080/",
          "height": 34
        },
        "outputId": "4950ca4a-7769-429b-9ecf-087c2cd56910"
      },
      "source": [
        "from tensorflow import keras\n",
        "from keras.models import Sequential\n",
        "from keras import optimizers\n",
        "from keras.layers import Convolution2D, MaxPooling2D, Dropout, Flatten, Dense, Reshape, LSTM, BatchNormalization\n",
        "from keras.optimizers import SGD, RMSprop, Adam\n",
        "import tensorflow.python.keras.backend as K\n",
        "from keras.constraints import maxnorm\n",
        "import tensorflow as tf\n",
        "tf.compat.v1.disable_eager_execution()"
      ],
      "execution_count": null,
      "outputs": [
        {
          "output_type": "stream",
          "text": [
            "Using TensorFlow backend.\n"
          ],
          "name": "stderr"
        }
      ]
    },
    {
      "cell_type": "code",
      "metadata": {
        "id": "a7VVWccK0y6L"
      },
      "source": [
        "def emnist_model():\n",
        "    model = Sequential()\n",
        "    model.add(Convolution2D(filters=32, kernel_size=(3, 3), padding='valid', input_shape=(28, 28, 1), activation='relu'))\n",
        "    model.add(Convolution2D(filters=64, kernel_size=(3, 3), activation='relu'))\n",
        "    model.add(MaxPooling2D(pool_size=(2, 2)))\n",
        "    model.add(Dropout(0.25))\n",
        "    model.add(Flatten())\n",
        "    model.add(Dense(512, activation='relu'))\n",
        "    model.add(Dropout(0.5))\n",
        "    model.add(Dense(62, activation='softmax'))\n",
        "    model.compile(loss='categorical_crossentropy', optimizer='adadelta', metrics=['accuracy'])\n",
        "    return model"
      ],
      "execution_count": null,
      "outputs": []
    },
    {
      "cell_type": "code",
      "metadata": {
        "id": "84kUAfxzWUnN",
        "colab": {
          "base_uri": "https://localhost:8080/",
          "height": 221
        },
        "outputId": "07aea343-eb56-4e16-cb4b-26729f308733"
      },
      "source": [
        "Xtrain, ytrain, Xtest, ytest = load_eData()"
      ],
      "execution_count": null,
      "outputs": [
        {
          "output_type": "stream",
          "text": [
            "Processing data from  /content/data/gzip/emnist-byclass-train-images-idx3-ubyte.gz\n",
            "Dimention: 3\n",
            "Shape: (697932, 28, 28)\n",
            "Processing data from  /content/data/gzip/emnist-byclass-train-labels-idx1-ubyte.gz\n",
            "Dimention: 1\n",
            "Shape: (697932,)\n",
            "Processing data from  /content/data/gzip/emnist-byclass-test-images-idx3-ubyte.gz\n",
            "Dimention: 3\n",
            "Shape: (116323, 28, 28)\n",
            "Processing data from  /content/data/gzip/emnist-byclass-test-labels-idx1-ubyte.gz\n",
            "Dimention: 1\n",
            "Shape: (116323,)\n"
          ],
          "name": "stdout"
        }
      ]
    },
    {
      "cell_type": "code",
      "metadata": {
        "id": "isYXrHJnWgIP",
        "colab": {
          "base_uri": "https://localhost:8080/",
          "height": 34
        },
        "outputId": "3e14d38f-79e6-4fb0-cbff-2849c21fe4f6"
      },
      "source": [
        "Xtrain = np.reshape(Xtrain, (Xtrain.shape[0], 28, 28, 1))\n",
        "Xtest = np.reshape(Xtest, (Xtest.shape[0], 28, 28, 1))\n",
        "\n",
        "print(Xtrain.shape, ytrain.shape, Xtest.shape, ytest.shape)\n",
        "\n",
        "k = 10\n",
        "Xtrain = Xtrain[:Xtrain.shape[0] // k]\n",
        "ytrain = ytrain[:ytrain.shape[0] // k]\n",
        "Xtest = Xtest[:Xtest.shape[0] // k]\n",
        "ytest = ytest[:ytest.shape[0] // k]\n",
        "\n",
        "# Normalize\n",
        "Xtrain = Xtrain.astype(np.float32)\n",
        "Xtrain /= 255.0\n",
        "Xtest = Xtest.astype(np.float32)\n",
        "Xtest /= 255.0\n",
        "\n",
        "x_train_cat = keras.utils.to_categorical(ytrain, 62)\n",
        "y_test_cat = keras.utils.to_categorical(ytest, 62)"
      ],
      "execution_count": null,
      "outputs": [
        {
          "output_type": "stream",
          "text": [
            "(697932, 28, 28, 1) (697932,) (116323, 28, 28, 1) (116323,)\n"
          ],
          "name": "stdout"
        }
      ]
    },
    {
      "cell_type": "code",
      "metadata": {
        "id": "wXQrBB5aaarh",
        "colab": {
          "base_uri": "https://localhost:8080/",
          "height": 88
        },
        "outputId": "5d7dd655-2e8d-4fee-cf58-bcb3c57d820e"
      },
      "source": [
        "model = emnist_model()"
      ],
      "execution_count": null,
      "outputs": [
        {
          "output_type": "stream",
          "text": [
            "WARNING:tensorflow:From /usr/local/lib/python3.6/dist-packages/tensorflow/python/ops/resource_variable_ops.py:1666: calling BaseResourceVariable.__init__ (from tensorflow.python.ops.resource_variable_ops) with constraint is deprecated and will be removed in a future version.\n",
            "Instructions for updating:\n",
            "If using Keras pass *_constraint arguments to layers.\n"
          ],
          "name": "stdout"
        }
      ]
    },
    {
      "cell_type": "code",
      "metadata": {
        "id": "PSI5zyKLXh0P"
      },
      "source": [
        "# Set a learning rate reduction\n",
        "learning_rate_reduction = keras.callbacks.ReduceLROnPlateau(monitor='val_accuracy', patience=3, factor=0.5, min_lr=0.00001)\n",
        "# Required for learning_rate_reduction:\n",
        "K.get_session().run(tf.compat.v1.global_variables_initializer())\n",
        "model.fit(Xtrain, x_train_cat, validation_data=(Xtest, y_test_cat), callbacks=[learning_rate_reduction], batch_size=400, epochs=10)\n",
        "\n",
        "# model.save('emnist_letters3.h5')"
      ],
      "execution_count": null,
      "outputs": []
    },
    {
      "cell_type": "code",
      "metadata": {
        "id": "8XWS0EduSYVW"
      },
      "source": [
        "import tensorflow.python.keras.backend as K\n",
        "model.save('emnist_letters3.h5')\n"
      ],
      "execution_count": null,
      "outputs": []
    },
    {
      "cell_type": "code",
      "metadata": {
        "id": "1jv5GngIcVa3",
        "colab": {
          "base_uri": "https://localhost:8080/",
          "height": 139
        },
        "outputId": "c47c972f-fe6e-4f46-faa9-b6da70b4b2e5"
      },
      "source": [
        "model = keras.models.load_model('/content/drive/My Drive/emnist_letters2.h5')"
      ],
      "execution_count": null,
      "outputs": [
        {
          "output_type": "stream",
          "text": [
            "WARNING:tensorflow:From /usr/local/lib/python3.6/dist-packages/tensorflow/python/ops/init_ops.py:97: calling VarianceScaling.__init__ (from tensorflow.python.ops.init_ops) with dtype is deprecated and will be removed in a future version.\n",
            "Instructions for updating:\n",
            "Call initializer instance with the dtype argument instead of passing it to the constructor\n",
            "WARNING:tensorflow:From /usr/local/lib/python3.6/dist-packages/tensorflow/python/ops/init_ops.py:97: calling Zeros.__init__ (from tensorflow.python.ops.init_ops) with dtype is deprecated and will be removed in a future version.\n",
            "Instructions for updating:\n",
            "Call initializer instance with the dtype argument instead of passing it to the constructor\n"
          ],
          "name": "stdout"
        }
      ]
    },
    {
      "cell_type": "code",
      "metadata": {
        "id": "5r27-NItjzCv",
        "colab": {
          "base_uri": "https://localhost:8080/",
          "height": 459
        },
        "outputId": "40814843-9fa3-4ce5-8980-893e57ce9826"
      },
      "source": [
        "print(\"Model Summary:\")\n",
        "print(model.summary())"
      ],
      "execution_count": null,
      "outputs": [
        {
          "output_type": "stream",
          "text": [
            "Model Summary:\n",
            "Model: \"sequential_4\"\n",
            "_________________________________________________________________\n",
            "Layer (type)                 Output Shape              Param #   \n",
            "=================================================================\n",
            "conv2d_7 (Conv2D)            (None, 26, 26, 32)        320       \n",
            "_________________________________________________________________\n",
            "conv2d_8 (Conv2D)            (None, 24, 24, 64)        18496     \n",
            "_________________________________________________________________\n",
            "max_pooling2d_4 (MaxPooling2 (None, 12, 12, 64)        0         \n",
            "_________________________________________________________________\n",
            "dropout_7 (Dropout)          (None, 12, 12, 64)        0         \n",
            "_________________________________________________________________\n",
            "flatten_4 (Flatten)          (None, 9216)              0         \n",
            "_________________________________________________________________\n",
            "dense_7 (Dense)              (None, 512)               4719104   \n",
            "_________________________________________________________________\n",
            "dropout_8 (Dropout)          (None, 512)               0         \n",
            "_________________________________________________________________\n",
            "dense_8 (Dense)              (None, 62)                31806     \n",
            "=================================================================\n",
            "Total params: 4,769,726\n",
            "Trainable params: 4,769,726\n",
            "Non-trainable params: 0\n",
            "_________________________________________________________________\n",
            "None\n"
          ],
          "name": "stdout"
        }
      ]
    },
    {
      "cell_type": "code",
      "metadata": {
        "id": "GXx_WyHG6I-C"
      },
      "source": [
        "# prediction = model.predict_classes([Xtest])\n",
        "\n",
        "# l = \"O123456789ABCDEFGHIJKLMNOPQRSTUVWXYZabcdefghijklmnopqrstuvwxyz\"\n",
        "# target_names = list(l)\n",
        "# print(classification_report(ytest, prediction, target_names=target_names))\n"
      ],
      "execution_count": null,
      "outputs": []
    },
    {
      "cell_type": "code",
      "metadata": {
        "id": "6H9DxQWMdIF7"
      },
      "source": [
        "def emnist_predict(model, image_file):\n",
        "    img = keras.preprocessing.image.load_img(image_file, target_size=(28, 28), color_mode='grayscale')\n",
        "    emnist_predict_img(model, img)\n",
        "\n",
        "Label ='O1234S6789ABCDEFGHIJKLMNOPQRSTUVWXYZabcdefghijklmnopqrstuvwxyz'\n",
        "def emnist_predict_img(model, img):\n",
        "    img_arr = np.expand_dims(img, axis=0)\n",
        "    img_arr = 1 - img_arr/255.0\n",
        "    img_arr[0] = np.rot90(img_arr[0], 3)\n",
        "    img_arr[0] = np.fliplr(img_arr[0])\n",
        "    img_arr = img_arr.reshape((1, 28, 28, 1))\n",
        "\n",
        "    result = model.predict_classes([img_arr])\n",
        "    return (Label[result[0]])"
      ],
      "execution_count": null,
      "outputs": []
    },
    {
      "cell_type": "code",
      "metadata": {
        "id": "mkPdT51AdcLi",
        "colab": {
          "base_uri": "https://localhost:8080/",
          "height": 85
        },
        "outputId": "b5df84f0-c13f-499a-c1b3-2c7a1b6af782"
      },
      "source": [
        "s_out2 = \"\"\n",
        "\n",
        "for letters in TextImageData:\n",
        "  for i in range(len(letters)):\n",
        "    dn = letters[i+1][0] - letters[i][0] - letters[i][1] if i < len(letters) - 1 else 0\n",
        "    s_out2 += emnist_predict_img(model, letters[i][2])\n",
        "    if (dn > letters[i][1]/1.5):\n",
        "        s_out2 += ' '\n",
        "  s_out2 += \"\\n\"\n",
        "print(s_out2)"
      ],
      "execution_count": null,
      "outputs": [
        {
          "output_type": "stream",
          "text": [
            "OUR MAJOR PROJECT\n",
            "hellO WOrLd\n",
            "FOR 4 YEAR 2 SEM\n",
            "\n"
          ],
          "name": "stdout"
        }
      ]
    },
    {
      "cell_type": "markdown",
      "metadata": {
        "id": "J3dOg8befxpL"
      },
      "source": [
        "\n"
      ]
    },
    {
      "cell_type": "code",
      "metadata": {
        "id": "_mBM8FFt37_A"
      },
      "source": [
        "def save(filename, contents):  \n",
        "    fh = open(filename, 'w')  \n",
        "    fh.write(contents)  \n",
        "    fh.close()  \n",
        "  \n",
        "save('/content/output1.txt', s_out1)\n",
        "save('/content/output2.txt', s_out2)"
      ],
      "execution_count": null,
      "outputs": []
    }
  ]
}